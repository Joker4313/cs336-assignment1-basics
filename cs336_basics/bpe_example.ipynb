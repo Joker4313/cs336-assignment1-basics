{
 "cells": [
  {
   "cell_type": "code",
   "execution_count": 1,
   "id": "0329501e",
   "metadata": {},
   "outputs": [],
   "source": [
    "import collections\n",
    "import regex as re"
   ]
  },
  {
   "cell_type": "code",
   "execution_count": 2,
   "id": "14b3a894",
   "metadata": {},
   "outputs": [],
   "source": [
    "\n",
    "PAT = r\"\"\"'(?:[sdmt]|ll|ve|re)| ?\\p{L}+| ?\\p{N}+| ?[^\\s\\p{L}\\p{N}]+|\\s+(?!\\S)|\\s+\"\"\"\n",
    "corpus=\"low low low low low \" \\\n",
    "\"lower lower widest widest widest \" \\\n",
    "\"newest newest newest newest newest newest\""
   ]
  },
  {
   "cell_type": "code",
   "execution_count": null,
   "id": "8a1f4489",
   "metadata": {},
   "outputs": [],
   "source": [
    "def get_word_counts(corpus:str) -> dict[tuple[str,...],int]:\n",
    "    match_iterator=re.finditer(PAT,corpus)\n",
    "    return collections.Counter(tuple(match.group(0)) for match in match_iterator)"
   ]
  },
  {
   "cell_type": "code",
   "execution_count": 9,
   "id": "be80a3c4",
   "metadata": {},
   "outputs": [
    {
     "name": "stdout",
     "output_type": "stream",
     "text": [
      "Counter({(' ', 'n', 'e', 'w', 'e', 's', 't'): 6, (' ', 'l', 'o', 'w'): 4, (' ', 'w', 'i', 'd', 'e', 's', 't'): 3, (' ', 'l', 'o', 'w', 'e', 'r'): 2, ('l', 'o', 'w'): 1})\n"
     ]
    }
   ],
   "source": [
    "word_counts_tuple=get_word_counts(corpus)\n",
    "print(word_counts_tuple)"
   ]
  },
  {
   "cell_type": "code",
   "execution_count": 10,
   "id": "6ab03c0a",
   "metadata": {},
   "outputs": [],
   "source": [
    "\n",
    "def get_pair_stats(word_counts:dict[tuple[str,...],int]) -> collections.Counter:\n",
    "    pair_counts=collections.Counter()\n",
    "    for word_tuple, count in word_counts.items():\n",
    "        for i in range(len(word_tuple)-1):\n",
    "            pair_counts[word_tuple[i:i+2]]+=count\n",
    "    return pair_counts"
   ]
  },
  {
   "cell_type": "code",
   "execution_count": 11,
   "id": "4f828410",
   "metadata": {},
   "outputs": [
    {
     "name": "stdout",
     "output_type": "stream",
     "text": [
      "Counter({('e', 's'): 9, ('s', 't'): 9, ('w', 'e'): 8, ('l', 'o'): 7, ('o', 'w'): 7, (' ', 'l'): 6, (' ', 'n'): 6, ('n', 'e'): 6, ('e', 'w'): 6, (' ', 'w'): 3, ('w', 'i'): 3, ('i', 'd'): 3, ('d', 'e'): 3, ('e', 'r'): 2})\n"
     ]
    }
   ],
   "source": [
    "pair_stats=get_pair_stats(word_counts_tuple)\n",
    "print(pair_stats)"
   ]
  }
 ],
 "metadata": {
  "kernelspec": {
   "display_name": "cs336-assignment1-basics",
   "language": "python",
   "name": "python3"
  },
  "language_info": {
   "codemirror_mode": {
    "name": "ipython",
    "version": 3
   },
   "file_extension": ".py",
   "mimetype": "text/x-python",
   "name": "python",
   "nbconvert_exporter": "python",
   "pygments_lexer": "ipython3",
   "version": "3.12.3"
  }
 },
 "nbformat": 4,
 "nbformat_minor": 5
}
